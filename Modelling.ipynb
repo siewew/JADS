{
 "cells": [
  {
   "cell_type": "code",
   "execution_count": null,
   "metadata": {},
   "outputs": [],
   "source": [
    "import pandas as pd\n",
    "import numpy as np"
   ]
  },
  {
   "cell_type": "code",
   "execution_count": null,
   "metadata": {},
   "outputs": [],
   "source": [
    "df = pd.read_parquet('Dataset_Eindhoven.parquet')"
   ]
  },
  {
   "cell_type": "code",
   "execution_count": null,
   "metadata": {},
   "outputs": [],
   "source": [
    "# Sort the dataframe by 'Location' and 'Time_UTC' in ascending order\n",
    "df = df.sort_values(by=['Location', 'Time_UTC'])\n",
    "\n",
    "# Forward fill missing values in 'Lat' and 'Lon' columns within each location\n",
    "df[['Lat', 'Lon']] = df.groupby('Location')[['Lat', 'Lon']].transform(lambda x: x.ffill())\n",
    "\n",
    "# If there are still remaining null values after forward filling, you can fill them with the last available value\n",
    "df[['Lat', 'Lon']] = df.groupby('Location')[['Lat', 'Lon']].transform(lambda x: x.fillna(method='bfill').fillna(method='ffill'))\n",
    "\n",
    "# Check if there are any remaining null values\n",
    "print(df.isnull().sum())"
   ]
  },
  {
   "cell_type": "code",
   "execution_count": null,
   "metadata": {},
   "outputs": [],
   "source": [
    "df = df.sort_values(by='Time_Local')"
   ]
  },
  {
   "cell_type": "code",
   "execution_count": null,
   "metadata": {},
   "outputs": [],
   "source": [
    "import seaborn as sns\n",
    "import matplotlib.pyplot as plt\n",
    "import pandas as pd\n",
    "\n",
    "# Assuming 'PM10' is the column containing PM10 measurements in your DataFrame\n",
    "pm10_values = df['PM10']\n",
    "\n",
    "plt.figure(figsize=(10, 6))\n",
    "sns.boxplot(x=pm10_values, color='skyblue')\n",
    "\n",
    "plt.title('Box Plot of PM10 Measurements')\n",
    "plt.xlabel('PM10 Values')\n",
    "\n",
    "# Show the plot\n",
    "plt.show()"
   ]
  },
  {
   "cell_type": "code",
   "execution_count": null,
   "metadata": {},
   "outputs": [],
   "source": [
    "from sklearn.model_selection import train_test_split\n",
    "\n",
    "# Select data for the target location (e.g., \"I02\")\n",
    "target_location = \"I02\"\n",
    "df_target_location = df[df['Location'] == target_location]\n",
    "\n",
    "# Extract numerical columns for training\n",
    "X_train = df_target_location.select_dtypes(include=['float64', 'int64', 'float32']).drop(['PM10'], axis=1)\n",
    "y_train = df_target_location['PM10']\n",
    "\n",
    "# Use other locations for testing\n",
    "df_other_locations = df[df['Location'] != target_location]\n",
    "X_test = df_other_locations.select_dtypes(include=['float64', 'int64', 'float32']).drop(['PM10'], axis=1)\n",
    "y_test = df_other_locations['PM10']\n",
    "\n",
    "# Now, X_train and y_train contain data from \"I02\" for training,\n",
    "# and X_test and y_test contain data from other locations for testing"
   ]
  },
  {
   "cell_type": "code",
   "execution_count": null,
   "metadata": {},
   "outputs": [],
   "source": [
    "from sklearn.ensemble import RandomForestRegressor\n",
    "from sklearn.metrics import mean_squared_error, mean_absolute_error, r2_score\n",
    "\n",
    "# Create a Random Forest model\n",
    "rf_model = RandomForestRegressor(n_estimators=100, random_state=42)\n",
    "\n",
    "# Train the model on the training data\n",
    "rf_model.fit(X_train, y_train)\n",
    "\n",
    "# Make predictions on the test data\n",
    "y_pred_rf = rf_model.predict(X_test)\n",
    "\n",
    "# Evaluate the performance\n",
    "mse_rf = mean_squared_error(y_test, y_pred_rf)\n",
    "mae_rf = mean_absolute_error(y_test, y_pred_rf)\n",
    "r2_rf = r2_score(y_test, y_pred_rf)\n",
    "rmse_rf = np.sqrt(mse_rf)\n",
    "\n",
    "# Print evaluation metrics\n",
    "print(f'Mean Squared Error (Random Forest): {mse_rf:.2f}')\n",
    "print(f'Mean Absolute Error (Random Forest): {mae_rf:.2f}')\n",
    "print(f'R-squared (Random Forest): {r2_rf:.2f}')\n",
    "print(f'Root Mean Squared Error (Random Forest): {rmse_rf:.2f}')\n",
    "\n",
    "# Optionally, you can visualize the predicted vs. actual values\n",
    "plt.scatter(y_test, y_pred_rf)\n",
    "plt.xlabel('Actual PM10 Values')\n",
    "plt.ylabel('Predicted PM10 Values')\n",
    "plt.title('Random Forest: Actual vs. Predicted PM10 Values')\n",
    "plt.show()"
   ]
  },
  {
   "cell_type": "code",
   "execution_count": null,
   "metadata": {},
   "outputs": [],
   "source": [
    "from sklearn.tree import DecisionTreeRegressor\n",
    "from sklearn.metrics import mean_squared_error, mean_absolute_error, r2_score\n",
    "import numpy as np\n",
    "\n",
    "# Create a Decision Tree model\n",
    "decision_tree_model = DecisionTreeRegressor(random_state=42)\n",
    "\n",
    "# Train the model on the training data\n",
    "decision_tree_model.fit(X_train, y_train)\n",
    "\n",
    "# Make predictions on the test data\n",
    "y_pred_decision_tree = decision_tree_model.predict(X_test)\n",
    "\n",
    "# Evaluate the performance\n",
    "mse = mean_squared_error(y_test, y_pred_decision_tree)\n",
    "mae = mean_absolute_error(y_test, y_pred_decision_tree)\n",
    "r2 = r2_score(y_test, y_pred_decision_tree)\n",
    "rmse = np.sqrt(mse)\n",
    "\n",
    "# Print evaluation metrics\n",
    "print(f'Mean Squared Error (MSE): {mse:.2f}')\n",
    "print(f'Mean Absolute Error (MAE): {mae:.2f}')\n",
    "print(f'R-squared (R2): {r2:.2f}')\n",
    "print(f'Root Mean Squared Error (RMSE): {rmse:.2f}')\n",
    "\n",
    "# Optionally, you can visualize the predicted vs. actual values\n",
    "plt.scatter(y_test, y_pred_decision_tree)\n",
    "plt.xlabel('Actual PM10 Values')\n",
    "plt.ylabel('Predicted PM10 Values')\n",
    "plt.title('Decision Tree: Actual vs. Predicted PM10 Values')\n",
    "plt.show()"
   ]
  },
  {
   "cell_type": "code",
   "execution_count": null,
   "metadata": {},
   "outputs": [],
   "source": [
    "from sklearn.ensemble import ExtraTreesRegressor\n",
    "from sklearn.metrics import mean_squared_error, mean_absolute_error, r2_score\n",
    "import numpy as np\n",
    "\n",
    "# Create an Extra Trees model\n",
    "extra_trees_model = ExtraTreesRegressor(random_state=42)\n",
    "\n",
    "# Train the model on the training data\n",
    "extra_trees_model.fit(X_train, y_train)\n",
    "\n",
    "# Make predictions on the test data\n",
    "y_pred_extra_trees = extra_trees_model.predict(X_test)\n",
    "\n",
    "# Evaluate the performance\n",
    "mse = mean_squared_error(y_test, y_pred_extra_trees)\n",
    "mae = mean_absolute_error(y_test, y_pred_extra_trees)\n",
    "r2 = r2_score(y_test, y_pred_extra_trees)\n",
    "rmse = np.sqrt(mse)\n",
    "\n",
    "# Print evaluation metrics\n",
    "print(f'Mean Squared Error (MSE): {mse:.2f}')\n",
    "print(f'Mean Absolute Error (MAE): {mae:.2f}')\n",
    "print(f'R-squared (R2): {r2:.2f}')\n",
    "print(f'Root Mean Squared Error (RMSE): {rmse:.2f}')\n",
    "\n",
    "# Optionally, you can visualize the predicted vs. actual values\n",
    "plt.scatter(y_test, y_pred_extra_trees)\n",
    "plt.xlabel('Actual PM10 Values')\n",
    "plt.ylabel('Predicted PM10 Values')\n",
    "plt.title('Extra Trees: Actual vs. Predicted PM10 Values')\n",
    "plt.show()"
   ]
  },
  {
   "cell_type": "code",
   "execution_count": null,
   "metadata": {},
   "outputs": [],
   "source": [
    "unique_locations_count = df['Location'].nunique()\n",
    "unique_locations_ids = df['Location'].unique()\n",
    "\n",
    "# Print the count of unique locations\n",
    "print(f\"Count of Unique Locations: {unique_locations_count}\")\n",
    "\n",
    "# Print the unique location IDs\n",
    "print(\"Unique Location IDs:\")\n",
    "for location_id in unique_locations_ids:\n",
    "    print(location_id)"
   ]
  }
 ],
 "metadata": {
  "kernelspec": {
   "display_name": "base",
   "language": "python",
   "name": "python3"
  },
  "language_info": {
   "codemirror_mode": {
    "name": "ipython",
    "version": 3
   },
   "file_extension": ".py",
   "mimetype": "text/x-python",
   "name": "python",
   "nbconvert_exporter": "python",
   "pygments_lexer": "ipython3",
   "version": "3.10.13"
  }
 },
 "nbformat": 4,
 "nbformat_minor": 2
}
